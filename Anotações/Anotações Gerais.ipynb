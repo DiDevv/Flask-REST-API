{
  "nbformat": 4,
  "nbformat_minor": 0,
  "metadata": {
    "colab": {
      "provenance": [],
      "collapsed_sections": [
        "v1YzsLehIdJ5",
        "-Mm9LuIDI0vd",
        "sMffL0LhI7EU",
        "Px6Ip7rhJARl",
        "27emXdj_JD7d",
        "PcrGa9V4JIL1"
      ],
      "authorship_tag": "ABX9TyNDFmFcKzBxwhabb9m6vAIY",
      "include_colab_link": true
    },
    "kernelspec": {
      "name": "python3",
      "display_name": "Python 3"
    },
    "language_info": {
      "name": "python"
    }
  },
  "cells": [
    {
      "cell_type": "markdown",
      "metadata": {
        "id": "view-in-github",
        "colab_type": "text"
      },
      "source": [
        "<a href=\"https://colab.research.google.com/github/DiDevv/Flask-REST-API/blob/main/Anota%C3%A7%C3%B5es.ipynb\" target=\"_parent\"><img src=\"https://colab.research.google.com/assets/colab-badge.svg\" alt=\"Open In Colab\"/></a>"
      ]
    },
    {
      "cell_type": "markdown",
      "source": [
        "#1 - Anotações: API Rest em Python com Flask "
      ],
      "metadata": {
        "id": "v1YzsLehIdJ5"
      }
    },
    {
      "cell_type": "markdown",
      "source": [
        "> O que é uma API\n",
        "> \n",
        "> \n",
        "> O que é REST\n",
        "> \n",
        "> O que é uma REST API\n",
        "> \n",
        "> Métodos do Protocolo HTTP\n",
        "> \n",
        "> XML e JSON\n",
        "> \n",
        "> URL, URN, URI\n",
        "> \n",
        "> Framework Flask\n",
        ">"
      ],
      "metadata": {
        "id": "J48g_CP_Infd"
      }
    },
    {
      "cell_type": "markdown",
      "source": [
        "##1.1 O que é uma API?"
      ],
      "metadata": {
        "id": "-Mm9LuIDI0vd"
      }
    },
    {
      "cell_type": "markdown",
      "source": [
        "Uma API é um conjunto de rotinas que utilizamos para acessar softwares e aplicativos baseados na Web. São importantes para fazer integrações de softwares e serviços.\n",
        "\n",
        "As APIs podem ser locais, web e baseadas em programas."
      ],
      "metadata": {
        "id": "zExPvyHMI4_v"
      }
    },
    {
      "cell_type": "markdown",
      "source": [
        "##1.2 O que é REST?"
      ],
      "metadata": {
        "id": "sMffL0LhI7EU"
      }
    },
    {
      "cell_type": "markdown",
      "source": [
        "REST é um modelo de criação de arquitetura de Software baseado em comunicação em comunicação via REDE.\n",
        "\n",
        "Do inglês Representation State Transfer - Transferência de Estado Representacional.\n",
        "\n",
        "O REST cria a ideia de que todos os recursos devem responder aos mesmos métodos."
      ],
      "metadata": {
        "id": "DHgQiI1BI-It"
      }
    },
    {
      "cell_type": "markdown",
      "source": [
        "##1.3 O que é uma REST API?"
      ],
      "metadata": {
        "id": "Px6Ip7rhJARl"
      }
    },
    {
      "cell_type": "markdown",
      "source": [
        "É uma API desenvolvida no modelo REST, é utilizado em comunicações com softwares web e é consumido através de requisições HTTP. \n",
        "\n",
        "Geralmente seus formatos são em JSON e XML. Também são utilizados páginas PDF, HTML e arquivos de imagem.\n",
        "\n",
        "Ao implementar uma REST API, cada método tem que ser responsável por uma ação diferente seja ela: ADICIONAR, CONSULTAR, ALTERAR E DELETAR."
      ],
      "metadata": {
        "id": "OnrtikvQJCaM"
      }
    },
    {
      "cell_type": "markdown",
      "source": [
        "##1.4 Principais métodos do HTTP"
      ],
      "metadata": {
        "id": "27emXdj_JD7d"
      }
    },
    {
      "cell_type": "markdown",
      "source": [
        "GET - Solicita um recurso ou objeto do servidor por meio da URI\n",
        "\n",
        "POST - Envia arquivos/dados ou formulários HTML através do servidor\n",
        "\n",
        "PUT - Aceitar, criar ou modificar um objeto do servidor\n",
        "\n",
        "DELETE - Informa por meio da URI o objeto que vai ser deletado"
      ],
      "metadata": {
        "id": "Ax0bQXsUJGje"
      }
    },
    {
      "cell_type": "markdown",
      "source": [
        "##1.5 URL vs URN vs URI"
      ],
      "metadata": {
        "id": "PcrGa9V4JIL1"
      }
    },
    {
      "cell_type": "markdown",
      "source": [
        ">URL é um Localizador de Recursos Universal\n",
        ">\n",
        ">Exemplo: Host que será acessado; globallabs.academy\n",
        "\n",
        "\n",
        ">URN é o nome do recurso universal\n",
        ">\n",
        ">Exemplo: É o recurso que será identificado; /category/blog/\n",
        "\n",
        ">URI é o identificador de Recursos Universal\n",
        ">\n",
        ">Exemplo: É o identificador do recurso, podendo ser uma imagem, um arquivo ou uma página; [https://globallabs.academy/category/blog/](https://globallabs.academy/category/blog/) \n",
        "\n",
        ">URI une Protocolo(https://), URL(globallabs.academy) e a URN(/category/blog)"
      ],
      "metadata": {
        "id": "vNG8rjr6JLv2"
      }
    },
    {
      "cell_type": "markdown",
      "source": [
        "##1.6 XML - Extensible Markup Language e JSON - JavaScript Object Notation"
      ],
      "metadata": {
        "id": "hBc6S6l8Jsl1"
      }
    },
    {
      "cell_type": "markdown",
      "source": [
        ">XML: É uma linguagem de marcação utilizada para compartilhamento de informações através de requisições HTTP.\n",
        "\n",
        ">JSON: É um formato de troca de dados entre sistemas independente da linguagem utilizada derivada do JavaScript.\n",
        ">\n",
        ">Muitas linguagens possuem suporte nativo a JSON.\n",
        "\n",
        "\n",
        "\n"
      ],
      "metadata": {
        "id": "hdk40G3pJuCF"
      }
    },
    {
      "cell_type": "markdown",
      "source": [
        "##1.7 O que é Flask?"
      ],
      "metadata": {
        "id": "Y6VkMCDuRFl1"
      }
    },
    {
      "cell_type": "markdown",
      "source": [
        "Flask é um microframework utilizado para desenvolvimento web e de API, é chamado assim porque mantém um núcleo simples mas estável. \n",
        "Flask não posui camada de abstração para banco de dados, validação de formulário entre outros, mas é possível estender com outras bibliotecas.\n",
        "Por ser leve e simples de usar, é um dos mais utilizados para desenvolvimento de APIs."
      ],
      "metadata": {
        "id": "qaTdjpIMRJLe"
      }
    },
    {
      "cell_type": "markdown",
      "source": [
        "#2 - Anotações: API Rest em Python com Flash"
      ],
      "metadata": {
        "id": "xH3z0ezHQZZV"
      }
    },
    {
      "cell_type": "markdown",
      "source": [
        ">PIP\n",
        ">\n",
        ">Instalação do Flask\n",
        ">\n",
        ">Criação de um ambiente virtual (VirtualEnv)\n",
        ">\n",
        ">Primeira Aplicação Flask\n",
        ">\n",
        ">Entendendo os Decoradores\n",
        ">\n",
        ">Postman para realizar requisições HTTP\n",
        "\n"
      ],
      "metadata": {
        "id": "SH4p0mnomY-1"
      }
    },
    {
      "cell_type": "code",
      "source": [
        "pip install Flask"
      ],
      "metadata": {
        "id": "xGVDtG_wm4IN"
      },
      "execution_count": null,
      "outputs": []
    },
    {
      "cell_type": "markdown",
      "source": [
        "##2.1VirtualEnv"
      ],
      "metadata": {
        "id": "pgH4J961waj2"
      }
    },
    {
      "cell_type": "markdown",
      "source": [
        "VirtualEnv serve para criar ambientes Python isolados\n",
        "Útil para trabalhar em projetos que utilizam bibliotecas com versões diferentes.\n",
        "Para instalar uma VirtualEnv no visualStudio é simples.\n",
        "No terminal digite:\n",
        ">python -m venv nomequalquer\n",
        "ele vai criar o ambiente.\n",
        "Para ativá-lo é simples:\n",
        ">\n",
        ">.\\nomequalquer\\Scripts\\activate.ps1 (no powershell)\n",
        ">\n",
        ">.\\nomequalquer\\Scripts\\activate.bat (no cmd)\n",
        "\n",
        ">por padrão o Powershell vem restrito e pode dar um pequeno erro. Para solucionar é simples, abra o powershell como adm e digita:\n",
        ">\n",
        ">Set-ExecutionPolicy -Scope CurrentUser -ExecutionPolicy RemoteSigned\n",
        ">\n",
        ">S pra sim e pronto. Digitamos aquele comando de ativação do ambiente virtual.\n",
        "\n",
        "Sempre que o ambiente virtual estiver ativado, ele vai ficar com o nome verdinho no terminal!\n",
        "O que for instalado dentro do ambiente virtual, ficará lá.\n",
        "\n",
        ">Para desativar o VirtualEnv basta digitar deactivate"
      ],
      "metadata": {
        "id": "Du7gr-wynDsB"
      }
    },
    {
      "cell_type": "markdown",
      "source": [
        "##2.2Postman"
      ],
      "metadata": {
        "id": "I-VKFz_Kwenu"
      }
    },
    {
      "cell_type": "markdown",
      "source": [
        "Ferramenta utilizada para realizar requisições HTTP, com ela é possivel chamar qualquer método e também enviar parâmetros.\n",
        "Podemos fazer o dowload em:\n",
        "https://www.postman.com/downloads/?utm_source=postman-home\n",
        "\n",
        ">Existem coisas que serão mais difíceis e limitadas de serem feitas pelo navegador, então utilizaremos o POSTMAN para ajudar!"
      ],
      "metadata": {
        "id": "WCxiqkd1wiHX"
      }
    },
    {
      "cell_type": "markdown",
      "source": [
        "##Primeiros comandos do Flask"
      ],
      "metadata": {
        "id": "GPuw6_FX2TY1"
      }
    },
    {
      "cell_type": "code",
      "source": [
        "from flask import Flask\n",
        "\n",
        "app = Flask(__name__)\n",
        "\n",
        "#Esse decorador é utilizado para adicionar uma rota\n",
        "@app.route(\"/\")\n",
        "#Essa função retorna um 'Olá, tudo bem?' no navegador.\n",
        "def ola():\n",
        "    return 'Olá, tudo bem?.'\n",
        "\n",
        "#Aqui eu digo que o restante do código só será executado no ambiente principal!\n",
        "if __name__ == '__main__':\n",
        "#O app.run() serve para executar a aplicação\n",
        "#com o Debug on, ele atualiza automaticamente qualquer informação que eu acrescentar ao código\n",
        "#É importante observar que: quando estiver na fase de produção: Debug tem que estar desativado para observarmos os erros de código!\n",
        "    app.run(debug=True)"
      ],
      "metadata": {
        "id": "Kof17aBz2cA1"
      },
      "execution_count": null,
      "outputs": []
    },
    {
      "cell_type": "markdown",
      "source": [
        "Passando alguns parâmetros."
      ],
      "metadata": {
        "id": "g3cSQ3HQ3y8e"
      }
    },
    {
      "cell_type": "code",
      "source": [
        "from flask import Flask\n",
        "\n",
        "app = Flask(__name__)\n",
        "\n",
        "#Aqui eu digo que na URN eu tenho que passar um parâmetro INTEIRO\n",
        "@app.route(\"/<int:numero>\")\n",
        "#Aqui é a função que vai retornar um parâmetro\n",
        "def ola(numero):\n",
        "    return 'Olá, tudo bem?{}'.format(numero)\n",
        "\n",
        "if __name__ == '__main__':\n",
        "    app.run(debug=True)"
      ],
      "metadata": {
        "id": "MGgy1hOL32Tf"
      },
      "execution_count": 2,
      "outputs": []
    },
    {
      "cell_type": "markdown",
      "source": [
        "Ele emite uma mensagem de erro se você não digitar um inteiro depois da /"
      ],
      "metadata": {
        "id": "C1B60xyW56vH"
      }
    }
  ]
}
