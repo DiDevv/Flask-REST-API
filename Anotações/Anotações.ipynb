{
  "nbformat": 4,
  "nbformat_minor": 0,
  "metadata": {
    "colab": {
      "provenance": [],
      "authorship_tag": "ABX9TyOPdavfyABqteRriNntjBp4",
      "include_colab_link": true
    },
    "kernelspec": {
      "name": "python3",
      "display_name": "Python 3"
    },
    "language_info": {
      "name": "python"
    }
  },
  "cells": [
    {
      "cell_type": "markdown",
      "metadata": {
        "id": "view-in-github",
        "colab_type": "text"
      },
      "source": [
        "<a href=\"https://colab.research.google.com/github/DiDevv/Flask-REST-API/blob/main/Anota%C3%A7%C3%B5es.ipynb\" target=\"_parent\"><img src=\"https://colab.research.google.com/assets/colab-badge.svg\" alt=\"Open In Colab\"/></a>"
      ]
    },
    {
      "cell_type": "markdown",
      "source": [
        "#1 - Anotações: API Rest em Python com Flask "
      ],
      "metadata": {
        "id": "v1YzsLehIdJ5"
      }
    },
    {
      "cell_type": "markdown",
      "source": [
        "> O que é uma API\n",
        "> \n",
        "> \n",
        "> O que é REST\n",
        "> \n",
        "> O que é uma REST API\n",
        "> \n",
        "> Métodos do Protocolo HTTP\n",
        "> \n",
        "> XML e JSON\n",
        "> \n",
        "> URL, URN, URI\n",
        "> \n",
        "> Framework Flask\n",
        ">"
      ],
      "metadata": {
        "id": "J48g_CP_Infd"
      }
    },
    {
      "cell_type": "markdown",
      "source": [
        "##1. O que é uma API?"
      ],
      "metadata": {
        "id": "-Mm9LuIDI0vd"
      }
    },
    {
      "cell_type": "markdown",
      "source": [
        "Uma API é um conjunto de rotinas que utilizamos para acessar softwares e aplicativos baseados na Web. São importantes para fazer integrações de softwares e serviços.\n",
        "\n",
        "As APIs podem ser locais, web e baseadas em programas."
      ],
      "metadata": {
        "id": "zExPvyHMI4_v"
      }
    },
    {
      "cell_type": "markdown",
      "source": [
        "##2. O que é REST?"
      ],
      "metadata": {
        "id": "sMffL0LhI7EU"
      }
    },
    {
      "cell_type": "markdown",
      "source": [
        "REST é um modelo de criação de arquitetura de Software baseado em comunicação em comunicação via REDE.\n",
        "\n",
        "Do inglês Representation State Transfer - Transferência de Estado Representacional.\n",
        "\n",
        "O REST cria a ideia de que todos os recursos devem responder aos mesmos métodos."
      ],
      "metadata": {
        "id": "DHgQiI1BI-It"
      }
    },
    {
      "cell_type": "markdown",
      "source": [
        "##3. O que é uma REST API?"
      ],
      "metadata": {
        "id": "Px6Ip7rhJARl"
      }
    },
    {
      "cell_type": "markdown",
      "source": [
        "É uma API desenvolvida no modelo REST, é utilizado em comunicações com softwares web e é consumido através de requisições HTTP. \n",
        "\n",
        "Geralmente seus formatos são em JSON e XML. Também são utilizados páginas PDF, HTML e arquivos de imagem.\n",
        "\n",
        "Ao implementar uma REST API, cada método tem que ser responsável por uma ação diferente seja ela: ADICIONAR, CONSULTAR, ALTERAR E DELETAR."
      ],
      "metadata": {
        "id": "OnrtikvQJCaM"
      }
    },
    {
      "cell_type": "markdown",
      "source": [
        "##4. Principais métodos do HTTP"
      ],
      "metadata": {
        "id": "27emXdj_JD7d"
      }
    },
    {
      "cell_type": "markdown",
      "source": [
        "GET - Solicita um recurso ou objeto do servidor por meio da URI\n",
        "\n",
        "POST - Envia arquivos/dados ou formulários HTML através do servidor\n",
        "\n",
        "PUT - Aceitar, criar ou modificar um objeto do servidor\n",
        "\n",
        "DELETE - Informa por meio da URI o objeto que vai ser deletado"
      ],
      "metadata": {
        "id": "Ax0bQXsUJGje"
      }
    },
    {
      "cell_type": "markdown",
      "source": [
        "##5. URL vs URN vs URI"
      ],
      "metadata": {
        "id": "PcrGa9V4JIL1"
      }
    },
    {
      "cell_type": "markdown",
      "source": [
        ">URL é um Localizador de Recursos Universal\n",
        ">\n",
        ">Exemplo: Host que será acessado; globallabs.academy\n",
        "\n",
        "\n",
        ">URN é o nome do recurso universal\n",
        ">\n",
        ">Exemplo: É o recurso que será identificado; /category/blog/\n",
        "\n",
        ">URI é o identificador de Recursos Universal\n",
        ">\n",
        ">Exemplo: É o identificador do recurso, podendo ser uma imagem, um arquivo ou uma página; [https://globallabs.academy/category/blog/](https://globallabs.academy/category/blog/) \n",
        "\n",
        ">URI une Protocolo(https://), URL(globallabs.academy) e a URN(/category/blog)"
      ],
      "metadata": {
        "id": "vNG8rjr6JLv2"
      }
    },
    {
      "cell_type": "markdown",
      "source": [
        "##6. XML - Extensible Markup Language e JSON - JavaScript Object Notation"
      ],
      "metadata": {
        "id": "hBc6S6l8Jsl1"
      }
    },
    {
      "cell_type": "markdown",
      "source": [
        ">XML: É uma linguagem de marcação utilizada para compartilhamento de informações através de requisições HTTP.\n",
        "\n",
        ">JSON: É um formato de troca de dados entre sistemas independente da linguagem utilizada derivada do JavaScript.\n",
        ">\n",
        ">Muitas linguagens possuem suporte nativo a JSON.\n",
        "\n",
        "\n",
        "\n"
      ],
      "metadata": {
        "id": "hdk40G3pJuCF"
      }
    },
    {
      "cell_type": "markdown",
      "source": [
        "##7. O que é Flask?"
      ],
      "metadata": {
        "id": "Y6VkMCDuRFl1"
      }
    },
    {
      "cell_type": "markdown",
      "source": [
        "Flask é um microframework utilizado para desenvolvimento web e de API, é chamado assim porque mantém um núcleo simples mas estável. \n",
        "Flask não posui camada de abstração para banco de dados, validação de formulário entre outros, mas é possível estender com outras bibliotecas.\n",
        "Por ser leve e simples de usar, é um dos mais utilizados para desenvolvimento de APIs."
      ],
      "metadata": {
        "id": "qaTdjpIMRJLe"
      }
    },
    {
      "cell_type": "markdown",
      "source": [
        "#2 - Anotações: API Rest em Python com Flash"
      ],
      "metadata": {
        "id": "xH3z0ezHQZZV"
      }
    }
  ]
}
